{
  "nbformat": 4,
  "nbformat_minor": 0,
  "metadata": {
    "colab": {
      "provenance": []
    },
    "kernelspec": {
      "name": "python3",
      "display_name": "Python 3"
    },
    "language_info": {
      "name": "python"
    }
  },
  "cells": [
    {
      "cell_type": "code",
      "execution_count": null,
      "metadata": {
        "id": "1XZPpYarNJO0"
      },
      "outputs": [],
      "source": []
    },
    {
      "cell_type": "markdown",
      "source": [
        "1.what is python and why is it popular?\n",
        "Ans :Python is a high-level, general-purpose programming language known for its readability and versatility. It's used in web development, data science, automation, and more. It's also the name of a type of snake."
      ],
      "metadata": {
        "id": "52S9SSYgNKGD"
      }
    },
    {
      "cell_type": "markdown",
      "source": [
        "2.what is an interpreter in python?\n",
        "Ans:\n",
        "\n",
        "A Python interpreter is a program that reads and executes Python code line by line, translating it into machine-readable instructions."
      ],
      "metadata": {
        "id": "tcJlNbXLNcc1"
      }
    },
    {
      "cell_type": "markdown",
      "source": [
        "3.What are pre-define key words in python?\n",
        "Ans:\n",
        "\n",
        "Python has many built-in functions that are always available for use without needing to be imported. Some common examples include print(), len(), sum(), max(), min(), abs(), int(), str(), float(), bool(), input(), and range()."
      ],
      "metadata": {
        "id": "HBj53M3vNshn"
      }
    },
    {
      "cell_type": "markdown",
      "source": [
        "4.Can key words we used as variable name?\n",
        "Ans :No"
      ],
      "metadata": {
        "id": "C4JJjnVrN81p"
      }
    },
    {
      "cell_type": "markdown",
      "source": [
        "5.what is mutability in python?\n",
        "Ans:\n",
        "\n",
        "Mutability in Python refers to whether an object's state or value can be changed after it's created. Mutable objects can be modified in place, while immutable objects cannot."
      ],
      "metadata": {
        "id": "Tryv5btdOQKl"
      }
    },
    {
      "cell_type": "markdown",
      "source": [
        "6.Why are list mutable ,but tuples are immutable?\n",
        "Ans:\n",
        "\n",
        "A tuple's immutability means its elements cannot be changed after creation, while \"least mutable butte\" is not a recognized concept in programming or geology, making the latter part of the question unclear."
      ],
      "metadata": {
        "id": "YVN_OPfoO6-M"
      }
    },
    {
      "cell_type": "markdown",
      "source": [
        "7.what is the difference between \"==\"and \"is\"python?\n",
        "Ans:The main difference is that == checks for equality of values, while is checks for identity of objects (meaning if they refer to the exact same object in memory)."
      ],
      "metadata": {
        "id": "2VqLMq5wPFlW"
      }
    },
    {
      "cell_type": "markdown",
      "source": [
        "8.what are logical operators in python?\n",
        "Ans:\n",
        "\n",
        "Python's logical operators—and, or, and not—combine and evaluate Boolean expressions, returning True or False."
      ],
      "metadata": {
        "id": "pCOsEw6LR3JK"
      }
    },
    {
      "cell_type": "markdown",
      "source": [
        "9.What is type casting in python\n",
        "Ans:Type casting, or type conversion, is the process of changing a variable's data type in Python. This can be done either implicitly (automatically by Python) or explicitly (manually by the user using functions like int(), str(), or float())."
      ],
      "metadata": {
        "id": "iaEbIhntSGsE"
      }
    },
    {
      "cell_type": "markdown",
      "source": [
        "10.what is the difference between implicit and explicit type casting?\n",
        "Ans:Implicit type casting is done automatically by the compiler, typically when converting a smaller data type to a larger one without losing data (e.g., int to double). Explicit type casting, on the other hand, requires the programmer to manually specify the conversion, often when converting a larger data type to a smaller one, which might involve data loss (e.g., double to int)."
      ],
      "metadata": {
        "id": "DnPQYuJHSRcP"
      }
    },
    {
      "cell_type": "markdown",
      "source": [
        "11.what is the purpose of conditional statements in python?\n",
        "Ans:\n",
        "\n",
        "In Python, conditional statements allow your program to make decisions and execute different code blocks based on whether certain conditions are true or false."
      ],
      "metadata": {
        "id": "W5h7vygOSlOH"
      }
    },
    {
      "cell_type": "markdown",
      "source": [
        "12.How does the elif statement work?\n",
        "Ans:\n",
        "\n",
        "The term \"elite statement\" isn't a standard programming concept. It's possible you're referring to an if-else statement or an if-else if-else statement, which are used to execute different blocks of code based on whether specific conditions are true or false."
      ],
      "metadata": {
        "id": "bV9pGGAuTLzM"
      }
    },
    {
      "cell_type": "markdown",
      "source": [
        "13.What is the difference between for and while loops?\n",
        "Ans:\n",
        "\n",
        "The core difference is when they terminate: for loops iterate a predetermined number of times, while while loops continue as long as a condition remains true."
      ],
      "metadata": {
        "id": "72GCM0mcTc6r"
      }
    },
    {
      "cell_type": "markdown",
      "source": [
        "14.Describe a scenario where a while loop is more suitable then a for loop.\n",
        "Ans:\n",
        "\n",
        "A while loop is more suitable than a for loop when the number of iterations is unknown beforehand and depends on a condition being met. For example, reading data until a specific end-of-file marker is encountered, or repeating an action until a user inputs a valid value."
      ],
      "metadata": {
        "id": "vafZLSzYTvBw"
      }
    },
    {
      "cell_type": "markdown",
      "source": [
        "#PRACTICAL QUESTION"
      ],
      "metadata": {
        "id": "uJidKLOiUCdc"
      }
    },
    {
      "cell_type": "code",
      "source": [],
      "metadata": {
        "id": "oinlUfHRULbI"
      },
      "execution_count": null,
      "outputs": []
    },
    {
      "cell_type": "markdown",
      "source": [
        "1.write a python program to print \"Hello,world!\""
      ],
      "metadata": {
        "id": "lzhSrJFIUMAq"
      }
    },
    {
      "cell_type": "code",
      "source": [
        "(\"Hello,World\")"
      ],
      "metadata": {
        "colab": {
          "base_uri": "https://localhost:8080/",
          "height": 35
        },
        "id": "eYU_U-MjUZff",
        "outputId": "2f6a9d59-ef99-48af-ba5a-aa8af3b1daf7"
      },
      "execution_count": null,
      "outputs": [
        {
          "output_type": "execute_result",
          "data": {
            "text/plain": [
              "'Hello,World'"
            ],
            "application/vnd.google.colaboratory.intrinsic+json": {
              "type": "string"
            }
          },
          "metadata": {},
          "execution_count": 1
        }
      ]
    },
    {
      "cell_type": "markdown",
      "source": [
        "2.Write a Phyton program that display your name and age."
      ],
      "metadata": {
        "id": "DqhR5_kbVVyH"
      }
    },
    {
      "cell_type": "code",
      "source": [
        "print(f\"Name=Divya, Age=23\")"
      ],
      "metadata": {
        "colab": {
          "base_uri": "https://localhost:8080/"
        },
        "id": "v4fcsU-MVj0_",
        "outputId": "20a0f95e-280d-43ec-b1d8-32e56e9f806b"
      },
      "execution_count": null,
      "outputs": [
        {
          "output_type": "stream",
          "name": "stdout",
          "text": [
            "Name=Divya, Age=23\n"
          ]
        }
      ]
    },
    {
      "cell_type": "markdown",
      "source": [
        "3.write a code to print all the pre-define key words in python using the key world library"
      ],
      "metadata": {
        "id": "fz47xUljV9ul"
      }
    },
    {
      "cell_type": "code",
      "source": [
        "print(\"pre-define= library\")"
      ],
      "metadata": {
        "colab": {
          "base_uri": "https://localhost:8080/"
        },
        "id": "vucqzVBFWJsy",
        "outputId": "2178802d-a00c-4ee5-c888-a855dc48ebd6"
      },
      "execution_count": null,
      "outputs": [
        {
          "output_type": "stream",
          "name": "stdout",
          "text": [
            "pre-define= library\n"
          ]
        }
      ]
    },
    {
      "cell_type": "markdown",
      "source": [
        "4.Write a program that checks if a given world is a python key world"
      ],
      "metadata": {
        "id": "CBPBOXIXWkQA"
      }
    },
    {
      "cell_type": "code",
      "source": [
        "print (\"python=key word\")"
      ],
      "metadata": {
        "colab": {
          "base_uri": "https://localhost:8080/"
        },
        "id": "Dc14J7D9Wt3L",
        "outputId": "6bfe0b69-f19a-4572-ef89-8433ebde8790"
      },
      "execution_count": null,
      "outputs": [
        {
          "output_type": "stream",
          "name": "stdout",
          "text": [
            "python=key word\n"
          ]
        }
      ]
    },
    {
      "cell_type": "markdown",
      "source": [
        "5.Create a list and tuple in python,and demonstrate how attempting to change an element works differently for each."
      ],
      "metadata": {
        "id": "y7p1sHIsXL0Z"
      }
    },
    {
      "cell_type": "code",
      "source": [
        "print (\"list=element,tuple=element\")"
      ],
      "metadata": {
        "colab": {
          "base_uri": "https://localhost:8080/"
        },
        "id": "tDbXE6yuXe6n",
        "outputId": "f672da7e-5105-4ccb-bcca-22ca9cf2bf31"
      },
      "execution_count": null,
      "outputs": [
        {
          "output_type": "stream",
          "name": "stdout",
          "text": [
            "list=element,tuple=element\n"
          ]
        }
      ]
    },
    {
      "cell_type": "markdown",
      "source": [
        "6.Write a function to demonstrate the behaviour of mutable and immutable arguments."
      ],
      "metadata": {
        "id": "S5cvIss-YBYr"
      }
    },
    {
      "cell_type": "code",
      "source": [
        "print(\"function=mutable, function=immutable\")"
      ],
      "metadata": {
        "colab": {
          "base_uri": "https://localhost:8080/"
        },
        "id": "XA_dJylLYPt8",
        "outputId": "80a65e0e-d04b-438f-9a74-c973b7f34e4f"
      },
      "execution_count": null,
      "outputs": [
        {
          "output_type": "stream",
          "name": "stdout",
          "text": [
            "function=mutable, function=immutable\n"
          ]
        }
      ]
    },
    {
      "cell_type": "markdown",
      "source": [
        "7.write a program that performs basic arithmetic operations on two users-input no"
      ],
      "metadata": {
        "id": "jz8N-7raomoI"
      }
    },
    {
      "cell_type": "code",
      "source": [
        "print(\"basic arithmetic=user input\")"
      ],
      "metadata": {
        "colab": {
          "base_uri": "https://localhost:8080/"
        },
        "id": "SQcpahUJo7jg",
        "outputId": "228ddc45-3063-45dc-a62b-bf5fd12b4e56"
      },
      "execution_count": null,
      "outputs": [
        {
          "output_type": "stream",
          "name": "stdout",
          "text": [
            "basic arithmetic=user input\n"
          ]
        }
      ]
    },
    {
      "cell_type": "markdown",
      "source": [
        "8.Write a program to demonstrate the use of logical operators."
      ],
      "metadata": {
        "id": "TqB-A0z2pOMQ"
      }
    },
    {
      "cell_type": "code",
      "source": [
        "print(\"program=logical operators\")"
      ],
      "metadata": {
        "colab": {
          "base_uri": "https://localhost:8080/"
        },
        "id": "8WEJsnjwpWVr",
        "outputId": "a8a5ee3e-9251-4844-9c4d-59fa782d5d14"
      },
      "execution_count": null,
      "outputs": [
        {
          "output_type": "stream",
          "name": "stdout",
          "text": [
            "program=logical operators\n"
          ]
        }
      ]
    },
    {
      "cell_type": "markdown",
      "source": [
        "9.Write a python program to convert user input from string to integer,float,and Boolean types."
      ],
      "metadata": {
        "id": "GVCjyD9RpliI"
      }
    },
    {
      "cell_type": "code",
      "source": [
        "print(\"user input=integer,float,Boolean\")"
      ],
      "metadata": {
        "colab": {
          "base_uri": "https://localhost:8080/"
        },
        "id": "2IvVEthFp1Rf",
        "outputId": "9e9986a2-8262-44f8-d388-8305f740d939"
      },
      "execution_count": null,
      "outputs": [
        {
          "output_type": "stream",
          "name": "stdout",
          "text": [
            "user input=integer,float,Boolean\n"
          ]
        }
      ]
    },
    {
      "cell_type": "markdown",
      "source": [
        "10.Write code to demonstrate type casting with list elements."
      ],
      "metadata": {
        "id": "siOHi8tfqLdN"
      }
    },
    {
      "cell_type": "code",
      "source": [
        "print(\"list=element\")"
      ],
      "metadata": {
        "colab": {
          "base_uri": "https://localhost:8080/"
        },
        "id": "5mHGjUMwqUSN",
        "outputId": "4d2a9085-526a-4fa6-e801-8ef12cb46802"
      },
      "execution_count": null,
      "outputs": [
        {
          "output_type": "stream",
          "name": "stdout",
          "text": [
            "list=element\n"
          ]
        }
      ]
    },
    {
      "cell_type": "markdown",
      "source": [
        "11.Write a program that checks if a number is positive, negative,or zero."
      ],
      "metadata": {
        "id": "KvHksCcxqbVC"
      }
    },
    {
      "cell_type": "code",
      "source": [
        "print(\"number=positive,negative,zero\")"
      ],
      "metadata": {
        "colab": {
          "base_uri": "https://localhost:8080/"
        },
        "id": "DWzI7qJYqmqs",
        "outputId": "69bb0d5a-de94-41c7-abe0-a1673106e37b"
      },
      "execution_count": null,
      "outputs": [
        {
          "output_type": "stream",
          "name": "stdout",
          "text": [
            "number=positive,negative,zero\n"
          ]
        }
      ]
    },
    {
      "cell_type": "markdown",
      "source": [
        "12.Write a for loop to print numbers from 1 to 10"
      ],
      "metadata": {
        "id": "70uZ1PqBqv2l"
      }
    },
    {
      "cell_type": "code",
      "source": [
        "print(\"number=1 to 10\")"
      ],
      "metadata": {
        "colab": {
          "base_uri": "https://localhost:8080/"
        },
        "id": "3904hYv7q7jW",
        "outputId": "9af27a3e-4139-4ed7-cf36-2afcafe61bb4"
      },
      "execution_count": null,
      "outputs": [
        {
          "output_type": "stream",
          "name": "stdout",
          "text": [
            "number=1 to 10\n"
          ]
        }
      ]
    },
    {
      "cell_type": "markdown",
      "source": [
        "13.write a python program to find the sum of all even numbers between 1 and 50."
      ],
      "metadata": {
        "id": "jpebjIvdrHdp"
      }
    },
    {
      "cell_type": "code",
      "source": [
        "print(\"number=1 to 50\")"
      ],
      "metadata": {
        "colab": {
          "base_uri": "https://localhost:8080/"
        },
        "id": "BUh4sG6YrTAP",
        "outputId": "38e912bd-8a22-4610-dc1b-a3cb7f9ee512"
      },
      "execution_count": null,
      "outputs": [
        {
          "output_type": "stream",
          "name": "stdout",
          "text": [
            "number=1 to 50\n"
          ]
        }
      ]
    },
    {
      "cell_type": "markdown",
      "source": [
        "14.Write a program to reverse a string using a while loop."
      ],
      "metadata": {
        "id": "LB_NFB_Mrdq_"
      }
    },
    {
      "cell_type": "code",
      "source": [
        "print(\"reverse=loop\")"
      ],
      "metadata": {
        "colab": {
          "base_uri": "https://localhost:8080/"
        },
        "id": "7nYDrSQTsCDQ",
        "outputId": "18330415-fc62-49cb-9bb8-5ca7dcc425f1"
      },
      "execution_count": null,
      "outputs": [
        {
          "output_type": "stream",
          "name": "stdout",
          "text": [
            "reverse=loop\n"
          ]
        }
      ]
    },
    {
      "cell_type": "markdown",
      "source": [
        "15.Write a python program to calculate the factorial of a number provided by the user using a while."
      ],
      "metadata": {
        "id": "sj-9LnAPsLdu"
      }
    },
    {
      "cell_type": "code",
      "source": [
        "print(\"factorial number=while\")"
      ],
      "metadata": {
        "colab": {
          "base_uri": "https://localhost:8080/"
        },
        "id": "7ZISO0HAsYHG",
        "outputId": "877bdda0-7c1c-448c-aefb-d5f43363b9fd"
      },
      "execution_count": null,
      "outputs": [
        {
          "output_type": "stream",
          "name": "stdout",
          "text": [
            "factorial number=while\n"
          ]
        }
      ]
    }
  ]
}